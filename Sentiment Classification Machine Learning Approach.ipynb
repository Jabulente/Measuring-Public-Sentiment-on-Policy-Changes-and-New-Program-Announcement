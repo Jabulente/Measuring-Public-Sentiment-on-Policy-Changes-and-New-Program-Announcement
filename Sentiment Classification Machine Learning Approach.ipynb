{
 "cells": [
  {
   "cell_type": "markdown",
   "id": "63b72383-5fb9-47cb-ac97-3e36f6890a77",
   "metadata": {},
   "source": [
    "<h1 style='font-size: 45px; color: Tomato; font-family: Candara; font-weight: 700'>Sentiment Classification Machine Learning Approach</h1>\n"
   ]
  },
  {
   "cell_type": "markdown",
   "id": "92e9c733-28f5-48fc-971a-4577a56b971d",
   "metadata": {},
   "source": [
    "<div style=\"text-align: center;\">\n",
    "    <img src=\"Resources/BBT.png\", alt='BBT' width='600', height='450'\n",
    "</div>"
   ]
  },
  {
   "cell_type": "markdown",
   "id": "d5af65a1-3ba3-474a-9355-f8f2b3b27053",
   "metadata": {},
   "source": [
    "<h3 style='font-size: 25px; color: Tomato; font-family: Candara; font-weight: 700'>Import Required Libraries</h3>"
   ]
  },
  {
   "cell_type": "code",
   "execution_count": 17,
   "id": "1734090b-e420-449a-864e-51a7704b73f7",
   "metadata": {},
   "outputs": [
    {
     "name": "stdout",
     "output_type": "stream",
     "text": [
      "Libraries loaded Succesfully\n"
     ]
    }
   ],
   "source": [
    "from sklearn.metrics import accuracy_score, precision_score, recall_score, f1_score\n",
    "from sklearn.preprocessing import StandardScaler, OneHotEncoder\n",
    "from sklearn.model_selection import train_test_split\n",
    "from sklearn.ensemble import RandomForestClassifier\n",
    "from sklearn.linear_model import LogisticRegression\n",
    "from sklearn.compose import ColumnTransformer\n",
    "from sklearn.pipeline import Pipeline\n",
    "import matplotlib.pyplot as plt\n",
    "from sklearn.svm import SVC\n",
    "import statsmodels.api as sm\n",
    "import seaborn as sns\n",
    "import pandas as pd\n",
    "import numpy as np\n",
    "import joblib\n",
    "import math\n",
    "\n",
    "print('Libraries loaded Succesfully')"
   ]
  },
  {
   "cell_type": "markdown",
   "id": "1e001db1-8dec-4867-90ba-4a5d2c21d00a",
   "metadata": {},
   "source": [
    "<h3 style='font-size: 25px; color: Tomato; font-family: Candara; font-weight: 700'>Import and Preprocessing Dataset</h3>"
   ]
  },
  {
   "cell_type": "code",
   "execution_count": 18,
   "id": "aaaf62e1-35ec-4736-b40e-4ef8c91e46bf",
   "metadata": {},
   "outputs": [
    {
     "data": {
      "text/html": [
       "<div>\n",
       "<style scoped>\n",
       "    .dataframe tbody tr th:only-of-type {\n",
       "        vertical-align: middle;\n",
       "    }\n",
       "\n",
       "    .dataframe tbody tr th {\n",
       "        vertical-align: top;\n",
       "    }\n",
       "\n",
       "    .dataframe thead th {\n",
       "        text-align: right;\n",
       "    }\n",
       "</style>\n",
       "<table border=\"1\" class=\"dataframe\">\n",
       "  <thead>\n",
       "    <tr style=\"text-align: right;\">\n",
       "      <th></th>\n",
       "      <th>Review_Date</th>\n",
       "      <th>Region</th>\n",
       "      <th>Reviews</th>\n",
       "      <th>Processed_Reviews</th>\n",
       "      <th>sentiment_score</th>\n",
       "      <th>sentiment_label</th>\n",
       "    </tr>\n",
       "  </thead>\n",
       "  <tbody>\n",
       "    <tr>\n",
       "      <th>52014</th>\n",
       "      <td>2024-10-16</td>\n",
       "      <td>Mwanza</td>\n",
       "      <td>Thanks to BBT, I now sell my produce directly to buyers without middlemen.</td>\n",
       "      <td>thank bbt sell produc directli buyer without middleman</td>\n",
       "      <td>0.3612</td>\n",
       "      <td>Positive</td>\n",
       "    </tr>\n",
       "    <tr>\n",
       "      <th>3345</th>\n",
       "      <td>2025-09-28</td>\n",
       "      <td>Mwanza</td>\n",
       "      <td>The BBT grant allowed me to buy high-quality seeds, which increased my yield.</td>\n",
       "      <td>bbt grant allow buy highqual seed increas yield</td>\n",
       "      <td>0.5267</td>\n",
       "      <td>Positive</td>\n",
       "    </tr>\n",
       "    <tr>\n",
       "      <th>9152</th>\n",
       "      <td>2024-05-02</td>\n",
       "      <td>Dodoma</td>\n",
       "      <td>I’ve heard mixed reviews about the BBT initiative—some farmers benefit while others feel left out.</td>\n",
       "      <td>ive heard mix review bbt initiativesom farmer benefit other feel left</td>\n",
       "      <td>0.4588</td>\n",
       "      <td>Positive</td>\n",
       "    </tr>\n",
       "    <tr>\n",
       "      <th>31841</th>\n",
       "      <td>2019-06-05</td>\n",
       "      <td>Mwanza</td>\n",
       "      <td>Women in agriculture are finally being recognized and supported through BBT.</td>\n",
       "      <td>woman agricultur final recogn support bbt</td>\n",
       "      <td>0.4019</td>\n",
       "      <td>Positive</td>\n",
       "    </tr>\n",
       "    <tr>\n",
       "      <th>33557</th>\n",
       "      <td>2019-06-05</td>\n",
       "      <td>Tanga</td>\n",
       "      <td>I support BBT, but I think Tanzania should also invest in technology and manufacturing.</td>\n",
       "      <td>support bbt think tanzania also invest technolog manufactur</td>\n",
       "      <td>0.4019</td>\n",
       "      <td>Positive</td>\n",
       "    </tr>\n",
       "    <tr>\n",
       "      <th>20266</th>\n",
       "      <td>2022-07-01</td>\n",
       "      <td>Arusha</td>\n",
       "      <td>The market access that BBT provides is game-changing for smallholder farmers in my area.</td>\n",
       "      <td>market access bbt provid gamechang smallhold farmer area</td>\n",
       "      <td>0.0000</td>\n",
       "      <td>Neutral</td>\n",
       "    </tr>\n",
       "    <tr>\n",
       "      <th>16681</th>\n",
       "      <td>2025-11-08</td>\n",
       "      <td>Tanga</td>\n",
       "      <td>Why does BBT focus only on crop farming? What about livestock farmers?</td>\n",
       "      <td>bbt focu crop farm livestock farmer</td>\n",
       "      <td>0.0000</td>\n",
       "      <td>Neutral</td>\n",
       "    </tr>\n",
       "    <tr>\n",
       "      <th>59613</th>\n",
       "      <td>2024-08-29</td>\n",
       "      <td>Arusha</td>\n",
       "      <td>Agriculture is Tanzania’s backbone, and BBT is ensuring that the youth take an active role in its development.</td>\n",
       "      <td>agricultur tanzania backbon bbt ensur youth take activ role develop</td>\n",
       "      <td>0.0000</td>\n",
       "      <td>Neutral</td>\n",
       "    </tr>\n",
       "    <tr>\n",
       "      <th>59946</th>\n",
       "      <td>2023-08-09</td>\n",
       "      <td>Mwanza</td>\n",
       "      <td>I’m happy to see BBT promoting soil conservation. It’s important for future generations, and I’ve started using bett...</td>\n",
       "      <td>im happi see bbt promot soil conserv import futur gener ive start use better techniqu protect land</td>\n",
       "      <td>0.6705</td>\n",
       "      <td>Positive</td>\n",
       "    </tr>\n",
       "    <tr>\n",
       "      <th>63921</th>\n",
       "      <td>2024-11-08</td>\n",
       "      <td>Mbeya</td>\n",
       "      <td>BBT is promising, but it needs to be more inclusive to reach all farmers.</td>\n",
       "      <td>bbt promis need inclus reach farmer</td>\n",
       "      <td>0.0258</td>\n",
       "      <td>Neutral</td>\n",
       "    </tr>\n",
       "  </tbody>\n",
       "</table>\n",
       "</div>"
      ],
      "text/plain": [
       "      Review_Date  Region  \\\n",
       "52014  2024-10-16  Mwanza   \n",
       "3345   2025-09-28  Mwanza   \n",
       "9152   2024-05-02  Dodoma   \n",
       "31841  2019-06-05  Mwanza   \n",
       "33557  2019-06-05   Tanga   \n",
       "20266  2022-07-01  Arusha   \n",
       "16681  2025-11-08   Tanga   \n",
       "59613  2024-08-29  Arusha   \n",
       "59946  2023-08-09  Mwanza   \n",
       "63921  2024-11-08   Mbeya   \n",
       "\n",
       "                                                                                                                       Reviews  \\\n",
       "52014                                               Thanks to BBT, I now sell my produce directly to buyers without middlemen.   \n",
       "3345                                             The BBT grant allowed me to buy high-quality seeds, which increased my yield.   \n",
       "9152                        I’ve heard mixed reviews about the BBT initiative—some farmers benefit while others feel left out.   \n",
       "31841                                             Women in agriculture are finally being recognized and supported through BBT.   \n",
       "33557                                  I support BBT, but I think Tanzania should also invest in technology and manufacturing.   \n",
       "20266                                 The market access that BBT provides is game-changing for smallholder farmers in my area.   \n",
       "16681                                                   Why does BBT focus only on crop farming? What about livestock farmers?   \n",
       "59613           Agriculture is Tanzania’s backbone, and BBT is ensuring that the youth take an active role in its development.   \n",
       "59946  I’m happy to see BBT promoting soil conservation. It’s important for future generations, and I’ve started using bett...   \n",
       "63921                                                BBT is promising, but it needs to be more inclusive to reach all farmers.   \n",
       "\n",
       "                                                                                        Processed_Reviews  \\\n",
       "52014                                              thank bbt sell produc directli buyer without middleman   \n",
       "3345                                                      bbt grant allow buy highqual seed increas yield   \n",
       "9152                                ive heard mix review bbt initiativesom farmer benefit other feel left   \n",
       "31841                                                           woman agricultur final recogn support bbt   \n",
       "33557                                         support bbt think tanzania also invest technolog manufactur   \n",
       "20266                                            market access bbt provid gamechang smallhold farmer area   \n",
       "16681                                                                 bbt focu crop farm livestock farmer   \n",
       "59613                                 agricultur tanzania backbon bbt ensur youth take activ role develop   \n",
       "59946  im happi see bbt promot soil conserv import futur gener ive start use better techniqu protect land   \n",
       "63921                                                                 bbt promis need inclus reach farmer   \n",
       "\n",
       "       sentiment_score sentiment_label  \n",
       "52014           0.3612        Positive  \n",
       "3345            0.5267        Positive  \n",
       "9152            0.4588        Positive  \n",
       "31841           0.4019        Positive  \n",
       "33557           0.4019        Positive  \n",
       "20266           0.0000         Neutral  \n",
       "16681           0.0000         Neutral  \n",
       "59613           0.0000         Neutral  \n",
       "59946           0.6705        Positive  \n",
       "63921           0.0258         Neutral  "
      ]
     },
     "execution_count": 18,
     "metadata": {},
     "output_type": "execute_result"
    }
   ],
   "source": [
    "df = pd.read_csv(\"Datasets/Building a Better Tomorrow (BBT) Initiative Sentiments.csv\")\n",
    "pd.set_option('display.max_colwidth', 120)\n",
    "df.sample(10)"
   ]
  },
  {
   "cell_type": "markdown",
   "id": "bf578cef-a2c1-4b5c-9bf6-74d4d1e091c1",
   "metadata": {},
   "source": [
    "<h4 style='font-size: 25px; color: Green; font-family: Candara; font-weight: 600'>1.1: Dataset Informations/ Overview</h4>"
   ]
  },
  {
   "cell_type": "code",
   "execution_count": 19,
   "id": "20615516-1566-475a-81ff-75262c640e60",
   "metadata": {},
   "outputs": [
    {
     "data": {
      "text/plain": [
       "Index(['Review_Date', 'Region', 'Reviews', 'Processed_Reviews',\n",
       "       'sentiment_score', 'sentiment_label'],\n",
       "      dtype='object')"
      ]
     },
     "execution_count": 19,
     "metadata": {},
     "output_type": "execute_result"
    }
   ],
   "source": [
    "df.columns"
   ]
  },
  {
   "cell_type": "code",
   "execution_count": 20,
   "id": "9c471d17-9ac5-4fec-a8d3-5d4aeceb9fc7",
   "metadata": {},
   "outputs": [
    {
     "data": {
      "text/plain": [
       "(70146, 6)"
      ]
     },
     "execution_count": 20,
     "metadata": {},
     "output_type": "execute_result"
    }
   ],
   "source": [
    "df.shape"
   ]
  },
  {
   "cell_type": "code",
   "execution_count": 21,
   "id": "fb4cd4e1-aead-4bf4-b3eb-0eeef4fbdfc2",
   "metadata": {},
   "outputs": [
    {
     "name": "stdout",
     "output_type": "stream",
     "text": [
      "<class 'pandas.core.frame.DataFrame'>\n",
      "RangeIndex: 70146 entries, 0 to 70145\n",
      "Data columns (total 6 columns):\n",
      " #   Column             Non-Null Count  Dtype  \n",
      "---  ------             --------------  -----  \n",
      " 0   Review_Date        70146 non-null  object \n",
      " 1   Region             70146 non-null  object \n",
      " 2   Reviews            70146 non-null  object \n",
      " 3   Processed_Reviews  70146 non-null  object \n",
      " 4   sentiment_score    70146 non-null  float64\n",
      " 5   sentiment_label    70146 non-null  object \n",
      "dtypes: float64(1), object(5)\n",
      "memory usage: 3.2+ MB\n"
     ]
    }
   ],
   "source": [
    "df.info()"
   ]
  },
  {
   "cell_type": "code",
   "execution_count": 22,
   "id": "8266f111-81d2-438c-a251-27b4f3bc2bb0",
   "metadata": {},
   "outputs": [
    {
     "data": {
      "text/plain": [
       "Review_Date           object\n",
       "Region                object\n",
       "Reviews               object\n",
       "Processed_Reviews     object\n",
       "sentiment_score      float64\n",
       "sentiment_label       object\n",
       "dtype: object"
      ]
     },
     "execution_count": 22,
     "metadata": {},
     "output_type": "execute_result"
    }
   ],
   "source": [
    "df.dtypes"
   ]
  },
  {
   "cell_type": "markdown",
   "id": "49df52e6-b9e1-4270-b174-e529f61d1244",
   "metadata": {},
   "source": [
    "<h4 style='font-size: 25px; color: Green; font-family: Candara; font-weight: 600'>1.2: Handling Missing Values</h4>"
   ]
  },
  {
   "cell_type": "code",
   "execution_count": 23,
   "id": "f11a77a4-ae86-4843-8b7d-240d0c8ae8e3",
   "metadata": {},
   "outputs": [
    {
     "data": {
      "text/plain": [
       "Review_Date          0\n",
       "Region               0\n",
       "Reviews              0\n",
       "Processed_Reviews    0\n",
       "sentiment_score      0\n",
       "sentiment_label      0\n",
       "dtype: int64"
      ]
     },
     "execution_count": 23,
     "metadata": {},
     "output_type": "execute_result"
    }
   ],
   "source": [
    "df.isnull().sum()"
   ]
  },
  {
   "cell_type": "code",
   "execution_count": 24,
   "id": "c4b4f09e-c40b-42ab-8b92-346f47699d65",
   "metadata": {},
   "outputs": [],
   "source": [
    "df.ffill(inplace=True)"
   ]
  },
  {
   "cell_type": "markdown",
   "id": "d9d6590a-64ce-4481-b94e-3128a92241a6",
   "metadata": {},
   "source": [
    "<h2 style='font-size: 35px; color: Tomato; font-family: Candara; font-weight: 600'>2.0: Statistic Description of The Datasets</h2>"
   ]
  },
  {
   "cell_type": "markdown",
   "id": "7ae6b5c8-87fe-461f-8b5a-a17a7ee5a52a",
   "metadata": {},
   "source": [
    "<h4 style='font-size: 25px; color: Green; font-family: Candara; font-weight: 600'>2.1: Overall Statistics Distributions </h4>"
   ]
  },
  {
   "cell_type": "code",
   "execution_count": 25,
   "id": "dcf4dfce-214e-4bc8-82d2-0b216b7508ab",
   "metadata": {},
   "outputs": [
    {
     "data": {
      "text/html": [
       "<div>\n",
       "<style scoped>\n",
       "    .dataframe tbody tr th:only-of-type {\n",
       "        vertical-align: middle;\n",
       "    }\n",
       "\n",
       "    .dataframe tbody tr th {\n",
       "        vertical-align: top;\n",
       "    }\n",
       "\n",
       "    .dataframe thead th {\n",
       "        text-align: right;\n",
       "    }\n",
       "</style>\n",
       "<table border=\"1\" class=\"dataframe\">\n",
       "  <thead>\n",
       "    <tr style=\"text-align: right;\">\n",
       "      <th></th>\n",
       "      <th>sentiment_score</th>\n",
       "    </tr>\n",
       "  </thead>\n",
       "  <tbody>\n",
       "    <tr>\n",
       "      <th>count</th>\n",
       "      <td>70146.000000</td>\n",
       "    </tr>\n",
       "    <tr>\n",
       "      <th>mean</th>\n",
       "      <td>0.265303</td>\n",
       "    </tr>\n",
       "    <tr>\n",
       "      <th>std</th>\n",
       "      <td>0.329957</td>\n",
       "    </tr>\n",
       "    <tr>\n",
       "      <th>min</th>\n",
       "      <td>-0.765000</td>\n",
       "    </tr>\n",
       "    <tr>\n",
       "      <th>25%</th>\n",
       "      <td>0.000000</td>\n",
       "    </tr>\n",
       "    <tr>\n",
       "      <th>50%</th>\n",
       "      <td>0.361200</td>\n",
       "    </tr>\n",
       "    <tr>\n",
       "      <th>75%</th>\n",
       "      <td>0.458800</td>\n",
       "    </tr>\n",
       "    <tr>\n",
       "      <th>max</th>\n",
       "      <td>0.930000</td>\n",
       "    </tr>\n",
       "  </tbody>\n",
       "</table>\n",
       "</div>"
      ],
      "text/plain": [
       "       sentiment_score\n",
       "count     70146.000000\n",
       "mean          0.265303\n",
       "std           0.329957\n",
       "min          -0.765000\n",
       "25%           0.000000\n",
       "50%           0.361200\n",
       "75%           0.458800\n",
       "max           0.930000"
      ]
     },
     "execution_count": 25,
     "metadata": {},
     "output_type": "execute_result"
    }
   ],
   "source": [
    "df.describe()"
   ]
  },
  {
   "cell_type": "markdown",
   "id": "9fc3c2db-3507-442e-9fbd-286aa6b612b8",
   "metadata": {},
   "source": [
    "<h4 style='font-size: 25px; color: green; font-family: Candara; font-weight: 600'>2.3: Distributions of Categorical Variables</h4>"
   ]
  },
  {
   "cell_type": "code",
   "execution_count": 26,
   "id": "834b14ab-4d98-421a-94b8-d5a5f8a18d9e",
   "metadata": {},
   "outputs": [
    {
     "name": "stdout",
     "output_type": "stream",
     "text": [
      "\n",
      "                                   Count occurrences of each Region:\n",
      "Region: Mwanza ........................................................................ 14110 (20.12%)\n",
      "Region: Dodoma ........................................................................ 14091 (20.09%)\n",
      "Region: Arusha ........................................................................ 13991 (19.95%)\n",
      "Region: Mbeya ......................................................................... 13986 (19.94%)\n",
      "Region: Tanga ......................................................................... 13968 (19.91%)\n",
      "\n",
      "                                   Count occurrences of each sentiment_label:\n",
      "sentiment_label: Positive ............................................................. 40055 (57.10%)\n",
      "sentiment_label: Neutral .............................................................. 25138 (35.84%)\n",
      "sentiment_label: Negative ............................................................... 4953 (7.06%)\n"
     ]
    }
   ],
   "source": [
    "categories = [\"Region\", \"sentiment_label\"]\n",
    "total_length = 100\n",
    "\n",
    "for category in categories:\n",
    "    print(f\"\\n{' ' * 35}Count occurrences of each {category}:\")\n",
    "    counts = df[category].value_counts()\n",
    "    proportions = df[category].value_counts(normalize=True)\n",
    "    for value, count in counts.items():\n",
    "        proportion = proportions[value]\n",
    "        text_length = len(f\"{category}: {value}\")\n",
    "        remaining_length = total_length - text_length - len(str(count)) - len(f\"{proportion:.2%}\") - 3\n",
    "        print(f\"{category}: {value} {'.' * remaining_length} {count} ({proportion:.2%})\")"
   ]
  },
  {
   "cell_type": "markdown",
   "id": "fbe4003d-ba99-4c92-937e-4aaaac9bf028",
   "metadata": {},
   "source": [
    "<h4 style='font-size: 25px; color: Green; font-family: Candara; font-weight: 600'>2.4: Distributions Comparisons of Categorical Variables Across Other Groups</h4>"
   ]
  },
  {
   "cell_type": "code",
   "execution_count": 27,
   "id": "fe4f3a4a-0841-4751-94c9-f660fa58e1b6",
   "metadata": {},
   "outputs": [
    {
     "name": "stdout",
     "output_type": "stream",
     "text": [
      "\n",
      "                                   Distribution of sentiment_label across Region:\n",
      "\n",
      "Region: Arusha\n",
      "sentiment_label: Positive .............................................................. 7960 (56.89%)\n",
      "sentiment_label: Neutral ............................................................... 5064 (36.19%)\n",
      "sentiment_label: Negative ................................................................ 967 (6.91%)\n",
      "\n",
      "Region: Dodoma\n",
      "sentiment_label: Positive .............................................................. 8050 (57.13%)\n",
      "sentiment_label: Neutral ............................................................... 5020 (35.63%)\n",
      "sentiment_label: Negative ............................................................... 1021 (7.25%)\n",
      "\n",
      "Region: Mbeya\n",
      "sentiment_label: Positive .............................................................. 7897 (56.46%)\n",
      "sentiment_label: Neutral ............................................................... 5101 (36.47%)\n",
      "sentiment_label: Negative ................................................................ 988 (7.06%)\n",
      "\n",
      "Region: Mwanza\n",
      "sentiment_label: Positive .............................................................. 8136 (57.66%)\n",
      "sentiment_label: Neutral ............................................................... 5005 (35.47%)\n",
      "sentiment_label: Negative ................................................................ 969 (6.87%)\n",
      "\n",
      "Region: Tanga\n",
      "sentiment_label: Positive .............................................................. 8012 (57.36%)\n",
      "sentiment_label: Neutral ............................................................... 4948 (35.42%)\n",
      "sentiment_label: Negative ............................................................... 1008 (7.22%)\n"
     ]
    }
   ],
   "source": [
    "categories = [\"Region\", \"sentiment_label\"]\n",
    "group_column = 'Region'\n",
    "total_length = 100\n",
    "\n",
    "for category in categories:\n",
    "    if category == group_column:\n",
    "        continue\n",
    "\n",
    "    print(f\"\\n{' ' * 35}Distribution of {category} across {group_column}:\")\n",
    "    grouped = df.groupby(group_column)[category].value_counts(normalize=False)  # Counts\n",
    "    grouped_proportions = df.groupby(group_column)[category].value_counts(normalize=True)  # Proportions\n",
    "    \n",
    "    for group, values in grouped.groupby(level=0):  # Level 0 is the group_column\n",
    "        print(f\"\\n{group_column}: {group}\")\n",
    "        for (g, value), count in values.items():\n",
    "            proportion = grouped_proportions[(group, value)]\n",
    "            text_length = len(f\"{category}: {value}\")\n",
    "            remaining_length = total_length - text_length - len(str(count)) - len(f\"{proportion:.2%}\") - 3\n",
    "            \n",
    "            print(f\"{category}: {value} {'.' * remaining_length} {count} ({proportion:.2%})\")\n"
   ]
  },
  {
   "cell_type": "markdown",
   "id": "83ccf6a9-3f9a-4e5d-aed3-8150ae29effc",
   "metadata": {},
   "source": [
    "<h1 style='font-size: 35px; color: Tomato; font-family: Candara; font-weight: 600'>3.0: Machine Learning Model Development</h1>"
   ]
  },
  {
   "cell_type": "markdown",
   "id": "f2bf2895-ad3b-4aed-81a8-99cc8b87c989",
   "metadata": {},
   "source": [
    "<h3 style='font-size: 25px; color: Tomato; font-family: Candara; font-weight: 600'>3.1: Feture Selection and Preprocessing</h3>"
   ]
  },
  {
   "cell_type": "raw",
   "id": "4cc84863-ffa0-4539-bb30-b4674d4ac601",
   "metadata": {},
   "source": [
    "# Separate features and target\n",
    "X = df.drop(columns=['Review_Date', 'sentiment_label', 'Reviews'])\n",
    "y = df['sentiment_label']\n",
    "\n",
    "# Split the data into training and testing sets\n",
    "X_train, X_test, y_train, y_test = train_test_split(X, y, test_size=0.2, random_state=42)\n",
    "\n",
    "# Define categorical and numerical features\n",
    "categorical_features = ['Processed_Reviews', 'Region']\n",
    "numerical_features = ['sentiment_score']\n",
    "\n",
    "# Preprocessing pipeline\n",
    "preprocessor = ColumnTransformer(\n",
    "    transformers=[\n",
    "        ('num', StandardScaler(), numerical_features),  # Scale numerical features\n",
    "        ('cat', OneHotEncoder(handle_unknown='ignore'), categorical_features)  # One-hot encode categorical features\n",
    "    ])\n"
   ]
  },
  {
   "cell_type": "code",
   "execution_count": 45,
   "id": "0385a324-0eb0-4ebd-baa7-e45db03086a9",
   "metadata": {},
   "outputs": [],
   "source": [
    "# Separate features and target\n",
    "X = df.drop(columns=['Review_Date', 'sentiment_label', 'Reviews', 'sentiment_score'])\n",
    "y = df['sentiment_label']\n",
    "\n",
    "X_train, X_test, y_train, y_test = train_test_split(X, y, test_size=0.2, random_state=42)            # Split the data into training and testing sets\n",
    "categorical_features = ['Processed_Reviews', 'Region']                                               # Define categorical and numerical features\n",
    "preprocessor = ColumnTransformer(transformers=[('cat', OneHotEncoder(handle_unknown='ignore'), categorical_features)])  # Preprocessing pipeline"
   ]
  },
  {
   "cell_type": "markdown",
   "id": "07a27899-102a-4f0d-999f-1ec374f18a9d",
   "metadata": {},
   "source": [
    "<h3 style='font-size: 25px; color: Tomato; font-family: Candara; font-weight: 600'>3.2: Model Selection and Evaluation</h3>"
   ]
  },
  {
   "cell_type": "code",
   "execution_count": 47,
   "id": "7779e62f-76ae-41e8-9f9a-c064fac35c92",
   "metadata": {},
   "outputs": [
    {
     "data": {
      "application/javascript": [
       "\n",
       "        if (window._pyforest_update_imports_cell) { window._pyforest_update_imports_cell('from sklearn.model_selection import cross_val_score'); }\n",
       "    "
      ],
      "text/plain": [
       "<IPython.core.display.Javascript object>"
      ]
     },
     "metadata": {},
     "output_type": "display_data"
    },
    {
     "data": {
      "application/javascript": [
       "\n",
       "        if (window._pyforest_update_imports_cell) { window._pyforest_update_imports_cell('from sklearn.model_selection import cross_val_score'); }\n",
       "    "
      ],
      "text/plain": [
       "<IPython.core.display.Javascript object>"
      ]
     },
     "metadata": {},
     "output_type": "display_data"
    },
    {
     "data": {
      "application/javascript": [
       "\n",
       "        if (window._pyforest_update_imports_cell) { window._pyforest_update_imports_cell('from sklearn.model_selection import cross_val_score'); }\n",
       "    "
      ],
      "text/plain": [
       "<IPython.core.display.Javascript object>"
      ]
     },
     "metadata": {},
     "output_type": "display_data"
    },
    {
     "name": "stdout",
     "output_type": "stream",
     "text": [
      "\n"
     ]
    }
   ],
   "source": [
    "\n",
    "# Define models to evaluate\n",
    "models = {\n",
    "    'Random Forest': RandomForestClassifier(random_state=42),\n",
    "    'SVM': SVC(kernel='linear', random_state=42),\n",
    "    'Logistic Regression': LogisticRegression(max_iter=1000, random_state=42)\n",
    "}\n",
    "\n",
    "# Train and evaluate models\n",
    "results = []\n",
    "\n",
    "for model_name, model in models.items():\n",
    "    \n",
    "    pipeline = Pipeline(steps=[('preprocessor', preprocessor),('classifier', model) ])        # Create a pipeline with preprocessing and the model\n",
    "    pipeline.fit(X_train, y_train)       # Train the model\n",
    "    y_pred = pipeline.predict(X_test)    # Predict on the test set\n",
    "    \n",
    "    # Calculate metrics\n",
    "    accuracy = accuracy_score(y_test, y_pred)\n",
    "    precision = precision_score(y_test, y_pred, average='weighted')\n",
    "    recall = recall_score(y_test, y_pred, average='weighted')\n",
    "    f1 = f1_score(y_test, y_pred, average='weighted')\n",
    "    \n",
    "    # Cross-validation score\n",
    "    cv_scores = cross_val_score(pipeline, X, y, cv=5, scoring='accuracy')\n",
    "    cv_mean = cv_scores.mean()\n",
    "    \n",
    "    # Store results\n",
    "    results.append({\n",
    "        'Model': model_name,\n",
    "        'Accuracy': accuracy,\n",
    "        'Precision': precision,\n",
    "        'Recall': recall,\n",
    "        'F1 Score': f1,\n",
    "        'CV Accuracy': cv_mean\n",
    "    })\n",
    "\n",
    "# Convert results to a DataFrame\n",
    "results_df = pd.DataFrame(results)\n",
    "results_df"
   ]
  },
  {
   "cell_type": "code",
   "execution_count": 48,
   "id": "c0036837-d736-4690-a438-f48c077f7483",
   "metadata": {},
   "outputs": [
    {
     "data": {
      "text/html": [
       "<div>\n",
       "<style scoped>\n",
       "    .dataframe tbody tr th:only-of-type {\n",
       "        vertical-align: middle;\n",
       "    }\n",
       "\n",
       "    .dataframe tbody tr th {\n",
       "        vertical-align: top;\n",
       "    }\n",
       "\n",
       "    .dataframe thead th {\n",
       "        text-align: right;\n",
       "    }\n",
       "</style>\n",
       "<table border=\"1\" class=\"dataframe\">\n",
       "  <thead>\n",
       "    <tr style=\"text-align: right;\">\n",
       "      <th></th>\n",
       "      <th>Model</th>\n",
       "      <th>Accuracy</th>\n",
       "      <th>Precision</th>\n",
       "      <th>Recall</th>\n",
       "      <th>F1 Score</th>\n",
       "      <th>CV Accuracy</th>\n",
       "    </tr>\n",
       "  </thead>\n",
       "  <tbody>\n",
       "    <tr>\n",
       "      <th>0</th>\n",
       "      <td>Random Forest</td>\n",
       "      <td>1.0</td>\n",
       "      <td>1.0</td>\n",
       "      <td>1.0</td>\n",
       "      <td>1.0</td>\n",
       "      <td>1.0</td>\n",
       "    </tr>\n",
       "    <tr>\n",
       "      <th>1</th>\n",
       "      <td>SVM</td>\n",
       "      <td>1.0</td>\n",
       "      <td>1.0</td>\n",
       "      <td>1.0</td>\n",
       "      <td>1.0</td>\n",
       "      <td>1.0</td>\n",
       "    </tr>\n",
       "    <tr>\n",
       "      <th>2</th>\n",
       "      <td>Logistic Regression</td>\n",
       "      <td>1.0</td>\n",
       "      <td>1.0</td>\n",
       "      <td>1.0</td>\n",
       "      <td>1.0</td>\n",
       "      <td>1.0</td>\n",
       "    </tr>\n",
       "  </tbody>\n",
       "</table>\n",
       "</div>"
      ],
      "text/plain": [
       "                 Model  Accuracy  Precision  Recall  F1 Score  CV Accuracy\n",
       "0        Random Forest       1.0        1.0     1.0       1.0          1.0\n",
       "1                  SVM       1.0        1.0     1.0       1.0          1.0\n",
       "2  Logistic Regression       1.0        1.0     1.0       1.0          1.0"
      ]
     },
     "execution_count": 48,
     "metadata": {},
     "output_type": "execute_result"
    }
   ],
   "source": [
    "results_df"
   ]
  },
  {
   "cell_type": "markdown",
   "id": "719e9424-1301-4c27-851e-a7b2eaf7fcb7",
   "metadata": {},
   "source": [
    "<h3 style='font-size: 25px; color: Tomato; font-family: Candara; font-weight: 600'>3.3: Saving The Best Model</h3>"
   ]
  },
  {
   "cell_type": "code",
   "execution_count": 49,
   "id": "1d4f4538-778c-4f1d-b6d2-20ac734b7b7b",
   "metadata": {},
   "outputs": [
    {
     "name": "stdout",
     "output_type": "stream",
     "text": [
      "Best model (Random Forest) saved to 'Random Forest.pkl'.\n"
     ]
    }
   ],
   "source": [
    "# Save the best model\n",
    "best_model_name = results_df.loc[results_df['Accuracy'].idxmax(), 'Model']\n",
    "best_model = models[best_model_name]\n",
    "\n",
    "# Retrain the best model on the full dataset\n",
    "best_pipeline = Pipeline(steps=[('preprocessor', preprocessor), ('classifier', best_model)])\n",
    "best_pipeline.fit(X, y)\n",
    "\n",
    "# Save the best model to disk\n",
    "joblib.dump(best_pipeline, f'{best_model_name}.pkl')\n",
    "print(f\"Best model ({best_model_name}) saved to '{best_model_name}.pkl'.\")"
   ]
  },
  {
   "cell_type": "markdown",
   "id": "1e4a41c9-18af-49d5-b4a4-d55952a53eae",
   "metadata": {},
   "source": [
    "<h1 style='font-size: 35px; color: Tomato; font-family: Candara; font-weight: 600'>4.0: Prediction From New Data</h1>"
   ]
  },
  {
   "cell_type": "markdown",
   "id": "0daa037b-129f-4580-92e6-ddaee58143af",
   "metadata": {},
   "source": [
    "<h3 style='font-size: 25px; color: Tomato; font-family: Candara; font-weight: 600'>4.1: Input Form for New Data</h3>"
   ]
  },
  {
   "cell_type": "code",
   "execution_count": 52,
   "id": "8cf433b2-0f6d-46ef-9855-881c855a75ca",
   "metadata": {},
   "outputs": [],
   "source": [
    "loaded_model = joblib.load(f'{best_model_name}.pkl')\n",
    "def format_prompt(prompt_text):\n",
    "    total_length = 60\n",
    "    dots_length = total_length - len(prompt_text)\n",
    "    return f\"{prompt_text} {'.' * dots_length}\"\n",
    "def predict_bean_variety():\n",
    "    while True:\n",
    "        print(\"\\nEnter the following details to predict the bean variety (or type 'exit' to quit):\\n\")\n",
    "        try:\n",
    "            # Define default values for each feature\n",
    "            defaults = {\n",
    "                \"Region\": \"Arusha\",\n",
    "                \"Processed_Reviews\": \"train provid bbt except learn busi strategi farm techniqu\"\n",
    "            }\n",
    "\n",
    "            # Initialize input data dictionary\n",
    "            input_data = {}\n",
    "\n",
    "            # Gather inputs and handle empty inputs\n",
    "            for field, default_value in defaults.items():\n",
    "                user_input = input(format_prompt(f\"{field} (e.g., {default_value}): \"))\n",
    "                input_data[field] = user_input if user_input else default_value\n",
    "\n",
    "            # Convert input data to a DataFrame\n",
    "            input_df = pd.DataFrame([input_data])\n",
    "\n",
    "            # Use the loaded model to predict the bean variety\n",
    "            Predicted_sentiment = loaded_model.predict(input_df)[0]\n",
    "\n",
    "            # Display the predicted variety\n",
    "            print(f\"\\nPredicted Sentiment: {Predicted_sentiment}\")\n",
    "\n",
    "        except Exception as e:\n",
    "            print(f\"\\nAn unexpected error occurred: {e}\")\n",
    "\n",
    "        # Ask the user if they want to predict again\n",
    "        predict_again = input(\"\\nDo you want to predict again? (yes/no): \").strip().lower()\n",
    "        if predict_again != 'yes':\n",
    "            print(\"Exiting the prediction tool. Goodbye!\")\n",
    "            break\n",
    "\n"
   ]
  },
  {
   "cell_type": "code",
   "execution_count": 53,
   "id": "37f42bea-c67c-4c42-99dd-ee444858758b",
   "metadata": {},
   "outputs": [
    {
     "name": "stdout",
     "output_type": "stream",
     "text": [
      "\n",
      "Enter the following details to predict the bean variety (or type 'exit' to quit):\n",
      "\n"
     ]
    },
    {
     "name": "stdin",
     "output_type": "stream",
     "text": [
      "Region (e.g., Arusha):  ..................................... Arusha\n",
      "Processed_Reviews (e.g., train provid bbt except learn busi strategi farm techniqu):   Good\n"
     ]
    },
    {
     "name": "stdout",
     "output_type": "stream",
     "text": [
      "\n",
      "Predicted Sentiment: Positive\n"
     ]
    },
    {
     "name": "stdin",
     "output_type": "stream",
     "text": [
      "\n",
      "Do you want to predict again? (yes/no):  Yes\n"
     ]
    },
    {
     "name": "stdout",
     "output_type": "stream",
     "text": [
      "\n",
      "Enter the following details to predict the bean variety (or type 'exit' to quit):\n",
      "\n"
     ]
    },
    {
     "name": "stdin",
     "output_type": "stream",
     "text": [
      "Region (e.g., Arusha):  ..................................... Arusha\n",
      "Processed_Reviews (e.g., train provid bbt except learn busi strategi farm techniqu):   BBT IS SCAMER\n"
     ]
    },
    {
     "name": "stdout",
     "output_type": "stream",
     "text": [
      "\n",
      "Predicted Sentiment: Positive\n"
     ]
    },
    {
     "name": "stdin",
     "output_type": "stream",
     "text": [
      "\n",
      "Do you want to predict again? (yes/no):  YES\n"
     ]
    },
    {
     "name": "stdout",
     "output_type": "stream",
     "text": [
      "\n",
      "Enter the following details to predict the bean variety (or type 'exit' to quit):\n",
      "\n"
     ]
    },
    {
     "name": "stdin",
     "output_type": "stream",
     "text": [
      "Region (e.g., Arusha):  ..................................... BBT IS LYING AND CORRUPTION\n",
      "Processed_Reviews (e.g., train provid bbt except learn busi strategi farm techniqu):   \n"
     ]
    },
    {
     "name": "stdout",
     "output_type": "stream",
     "text": [
      "\n",
      "Predicted Sentiment: Neutral\n"
     ]
    },
    {
     "name": "stdin",
     "output_type": "stream",
     "text": [
      "\n",
      "Do you want to predict again? (yes/no):  NO\n"
     ]
    },
    {
     "name": "stdout",
     "output_type": "stream",
     "text": [
      "Exiting the prediction tool. Goodbye!\n"
     ]
    }
   ],
   "source": [
    "# Run the prediction tool\n",
    "predict_bean_variety()"
   ]
  },
  {
   "cell_type": "markdown",
   "id": "a7e83f03-168e-4497-ab45-c35c0b2ac3aa",
   "metadata": {},
   "source": [
    "<h3 style='font-size: 25px; color: Tomato; font-family: Candara; font-weight: 600'>4.2: Prediction Form File Data</h3>"
   ]
  },
  {
   "cell_type": "code",
   "execution_count": 54,
   "id": "54947fe4-c687-494c-851d-45f19af7069c",
   "metadata": {},
   "outputs": [
    {
     "name": "stdout",
     "output_type": "stream",
     "text": [
      "Predictions added to the DataFrame:\n"
     ]
    }
   ],
   "source": [
    "loaded_model = joblib.load(f'{best_model_name}.pkl')\n",
    "\n",
    "def predict_dataframe(df):\n",
    "    try:\n",
    "        required_columns = ['Region', 'Processed_Reviews']\n",
    "        if not all(column in df.columns for column in required_columns):\n",
    "            print(\"Error: The DataFrame is missing required columns.\")\n",
    "            return None\n",
    "        \n",
    "        predictions = loaded_model.predict(df)  # Make predictions\n",
    "        df['Predicted_sentiment'] = predictions   # Add predictions to the DataFrame\n",
    "        return df\n",
    "    \n",
    "    except Exception as e:\n",
    "        print(f\"An error occurred while processing the DataFrame: {e}\")\n",
    "        return None\n",
    "\n",
    "# Example usage\n",
    "if __name__ == \"__main__\":\n",
    "    result_df = predict_dataframe(df)\n",
    "    if result_df is not None:\n",
    "        print(\"Predictions added to the DataFrame:\")\n",
    "        #print(result_df)"
   ]
  },
  {
   "cell_type": "code",
   "execution_count": 55,
   "id": "1df82d13-0c45-45aa-8544-6ff6b39ff214",
   "metadata": {},
   "outputs": [
    {
     "data": {
      "text/html": [
       "<div>\n",
       "<style scoped>\n",
       "    .dataframe tbody tr th:only-of-type {\n",
       "        vertical-align: middle;\n",
       "    }\n",
       "\n",
       "    .dataframe tbody tr th {\n",
       "        vertical-align: top;\n",
       "    }\n",
       "\n",
       "    .dataframe thead th {\n",
       "        text-align: right;\n",
       "    }\n",
       "</style>\n",
       "<table border=\"1\" class=\"dataframe\">\n",
       "  <thead>\n",
       "    <tr style=\"text-align: right;\">\n",
       "      <th></th>\n",
       "      <th>Processed_Reviews</th>\n",
       "      <th>Processed_Reviews</th>\n",
       "      <th>sentiment_label</th>\n",
       "      <th>Predicted_sentiment</th>\n",
       "    </tr>\n",
       "  </thead>\n",
       "  <tbody>\n",
       "    <tr>\n",
       "      <th>0</th>\n",
       "      <td>train provid bbt except learn busi strategi farm techniqu</td>\n",
       "      <td>train provid bbt except learn busi strategi farm techniqu</td>\n",
       "      <td>Neutral</td>\n",
       "      <td>Neutral</td>\n",
       "    </tr>\n",
       "    <tr>\n",
       "      <th>1</th>\n",
       "      <td>ive abl diversifi farm product support bbt instrument process</td>\n",
       "      <td>ive abl diversifi farm product support bbt instrument process</td>\n",
       "      <td>Positive</td>\n",
       "      <td>Positive</td>\n",
       "    </tr>\n",
       "    <tr>\n",
       "      <th>2</th>\n",
       "      <td>bbt potenti clear transpar process alloc fund</td>\n",
       "      <td>bbt potenti clear transpar process alloc fund</td>\n",
       "      <td>Positive</td>\n",
       "      <td>Positive</td>\n",
       "    </tr>\n",
       "    <tr>\n",
       "      <th>3</th>\n",
       "      <td>agricultur extens offic bbt regularli visit u ensur follow best practic</td>\n",
       "      <td>agricultur extens offic bbt regularli visit u ensur follow best practic</td>\n",
       "      <td>Positive</td>\n",
       "      <td>Positive</td>\n",
       "    </tr>\n",
       "    <tr>\n",
       "      <th>4</th>\n",
       "      <td>govern final given agricultur attent deserv</td>\n",
       "      <td>govern final given agricultur attent deserv</td>\n",
       "      <td>Neutral</td>\n",
       "      <td>Neutral</td>\n",
       "    </tr>\n",
       "    <tr>\n",
       "      <th>...</th>\n",
       "      <td>...</td>\n",
       "      <td>...</td>\n",
       "      <td>...</td>\n",
       "      <td>...</td>\n",
       "    </tr>\n",
       "    <tr>\n",
       "      <th>70141</th>\n",
       "      <td>transpar need select process bbt fund</td>\n",
       "      <td>transpar need select process bbt fund</td>\n",
       "      <td>Neutral</td>\n",
       "      <td>Neutral</td>\n",
       "    </tr>\n",
       "    <tr>\n",
       "      <th>70142</th>\n",
       "      <td>young peopl embrac farm secur tanzania agricultur futur</td>\n",
       "      <td>young peopl embrac farm secur tanzania agricultur futur</td>\n",
       "      <td>Neutral</td>\n",
       "      <td>Neutral</td>\n",
       "    </tr>\n",
       "    <tr>\n",
       "      <th>70143</th>\n",
       "      <td>bbt expand includ livestock farm well youth benefit</td>\n",
       "      <td>bbt expand includ livestock farm well youth benefit</td>\n",
       "      <td>Positive</td>\n",
       "      <td>Positive</td>\n",
       "    </tr>\n",
       "    <tr>\n",
       "      <th>70144</th>\n",
       "      <td>see potenti bbt still barrier prevent widespread success</td>\n",
       "      <td>see potenti bbt still barrier prevent widespread success</td>\n",
       "      <td>Positive</td>\n",
       "      <td>Positive</td>\n",
       "    </tr>\n",
       "    <tr>\n",
       "      <th>70145</th>\n",
       "      <td>urban farmer ignor rooftop garden project got reject twice</td>\n",
       "      <td>urban farmer ignor rooftop garden project got reject twice</td>\n",
       "      <td>Negative</td>\n",
       "      <td>Negative</td>\n",
       "    </tr>\n",
       "  </tbody>\n",
       "</table>\n",
       "<p>70146 rows × 4 columns</p>\n",
       "</div>"
      ],
      "text/plain": [
       "                                                             Processed_Reviews  \\\n",
       "0                    train provid bbt except learn busi strategi farm techniqu   \n",
       "1                ive abl diversifi farm product support bbt instrument process   \n",
       "2                                bbt potenti clear transpar process alloc fund   \n",
       "3      agricultur extens offic bbt regularli visit u ensur follow best practic   \n",
       "4                                  govern final given agricultur attent deserv   \n",
       "...                                                                        ...   \n",
       "70141                                    transpar need select process bbt fund   \n",
       "70142                  young peopl embrac farm secur tanzania agricultur futur   \n",
       "70143                      bbt expand includ livestock farm well youth benefit   \n",
       "70144                 see potenti bbt still barrier prevent widespread success   \n",
       "70145               urban farmer ignor rooftop garden project got reject twice   \n",
       "\n",
       "                                                             Processed_Reviews  \\\n",
       "0                    train provid bbt except learn busi strategi farm techniqu   \n",
       "1                ive abl diversifi farm product support bbt instrument process   \n",
       "2                                bbt potenti clear transpar process alloc fund   \n",
       "3      agricultur extens offic bbt regularli visit u ensur follow best practic   \n",
       "4                                  govern final given agricultur attent deserv   \n",
       "...                                                                        ...   \n",
       "70141                                    transpar need select process bbt fund   \n",
       "70142                  young peopl embrac farm secur tanzania agricultur futur   \n",
       "70143                      bbt expand includ livestock farm well youth benefit   \n",
       "70144                 see potenti bbt still barrier prevent widespread success   \n",
       "70145               urban farmer ignor rooftop garden project got reject twice   \n",
       "\n",
       "      sentiment_label Predicted_sentiment  \n",
       "0             Neutral             Neutral  \n",
       "1            Positive            Positive  \n",
       "2            Positive            Positive  \n",
       "3            Positive            Positive  \n",
       "4             Neutral             Neutral  \n",
       "...               ...                 ...  \n",
       "70141         Neutral             Neutral  \n",
       "70142         Neutral             Neutral  \n",
       "70143        Positive            Positive  \n",
       "70144        Positive            Positive  \n",
       "70145        Negative            Negative  \n",
       "\n",
       "[70146 rows x 4 columns]"
      ]
     },
     "execution_count": 55,
     "metadata": {},
     "output_type": "execute_result"
    }
   ],
   "source": [
    "result_df[['Processed_Reviews', 'Processed_Reviews',  'sentiment_label', 'Predicted_sentiment']]"
   ]
  },
  {
   "cell_type": "markdown",
   "id": "3b173748-1943-41c7-8903-db4bb4cc7fdd",
   "metadata": {},
   "source": [
    "---\n",
    "This analysis was performed by **Jabulente**, a passionate and dedicated data scientist with a strong commitment to using data to drive meaningful insights and solutions. For inquiries, collaborations, or further discussions, please feel free to reach out via email at **[Jabulente@hotmai.com](Jabulente@hotmai.com)**\n",
    "\n",
    "----\n",
    "\n",
    "<h1 style='font-size: 65px; color: crimson; font-family: Candara; font-weight: 600; text-align: center'>THE END</h1>"
   ]
  }
 ],
 "metadata": {
  "kernelspec": {
   "display_name": "Python 3 (ipykernel)",
   "language": "python",
   "name": "python3"
  },
  "language_info": {
   "codemirror_mode": {
    "name": "ipython",
    "version": 3
   },
   "file_extension": ".py",
   "mimetype": "text/x-python",
   "name": "python",
   "nbconvert_exporter": "python",
   "pygments_lexer": "ipython3",
   "version": "3.11.8"
  }
 },
 "nbformat": 4,
 "nbformat_minor": 5
}
